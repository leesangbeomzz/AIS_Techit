{
 "cells": [
  {
   "cell_type": "code",
   "execution_count": 1,
   "metadata": {},
   "outputs": [],
   "source": [
    "# 전이학습(Transfer Learning)을 구현해 보아요!\n",
    "# 사용하는 Pretrained Network(Model)은 VGG16을 이용할꺼예요!\n",
    "# 데이터는 개와 고양이 이진분류 예제를 사용할꺼고\n",
    "# 이미지의 pixel 데이터 추출할때는 ImageDataGenerator를 이용할꺼예요!\n",
    "# Augmentation(증식)까지 포함해서 구현해 보아요!\n",
    "\n",
    "# 필요한 module import \n",
    "import numpy as np\n",
    "import matplotlib.pyplot as plt\n",
    "from tensorflow.keras.models import Sequential\n",
    "from tensorflow.keras.layers import Flatten, Dense, Dropout\n",
    "from tensorflow.keras.optimizers import Adam, RMSprop\n",
    "from tensorflow.keras.preprocessing.image import ImageDataGenerator\n",
    "from tensorflow.keras.applications import VGG16"
   ]
  },
  {
   "cell_type": "code",
   "execution_count": 9,
   "metadata": {},
   "outputs": [
    {
     "name": "stdout",
     "output_type": "stream",
     "text": [
      "Found 2000 images belonging to 2 classes.\n",
      "Found 1000 images belonging to 2 classes.\n"
     ]
    }
   ],
   "source": [
    "# Raw Data Loading => 원래는 이거였는데\n",
    "# ImageDataGenerator를 이용해서 데이터 처리를 할꺼예요!\n",
    "\n",
    "train_dir = r\"C:\\Users\\lee_0\\Desktop\\코딩\\ML\\12.18\\cat_dog_small\\train\"\n",
    "validation_dir = r\"C:\\Users\\lee_0\\Desktop\\코딩\\ML\\12.18\\cat_dog_small\\validation\"\n",
    "\n",
    "# ImageDataGenerator 객체를 설정잡아서 생성해요!\n",
    "# 두 개의 설정을 해요. 하나는 정규화 설정, 다른 하나는 증식\n",
    "train_datagen = ImageDataGenerator(rescale=1/255,\n",
    "                                   rotation_range=30,\n",
    "                                   width_shift_range=0.1,\n",
    "                                   height_shift_range=0.1,\n",
    "                                   shear_range=0.2,\n",
    "                                   zoom_range=0.2,\n",
    "                                   horizontal_flip=True,\n",
    "                                   fill_mode='nearest')\n",
    "\n",
    "# validation data는 당연히 증식을 사용하면 안되요!\n",
    "validation_datagen = ImageDataGenerator(rescale=1/255)\n",
    "\n",
    "# 각 ImageDataGenerator 객체가 어떻게 동작하는지 그 설정을 잡아야 해요!\n",
    "train_generator = train_datagen.flow_from_directory(\n",
    "    train_dir,\n",
    "    classes=['cats', 'dogs'],  # label 처리\n",
    "    target_size=(224, 224),\n",
    "    batch_size=20,\n",
    "    class_mode='binary'\n",
    ")\n",
    "validation_generator = validation_datagen.flow_from_directory(\n",
    "    validation_dir,\n",
    "    classes=['cats', 'dogs'],  # label 처리!\n",
    "    target_size=(224, 224),\n",
    "    batch_size=20,\n",
    "    class_mode='binary'\n",
    ")"
   ]
  },
  {
   "cell_type": "code",
   "execution_count": 10,
   "metadata": {},
   "outputs": [
    {
     "name": "stdout",
     "output_type": "stream",
     "text": [
      "Epoch 1/30\n",
      "100/100 [==============================] - 187s 2s/step - loss: 0.5116 - acc: 0.7455 - val_loss: 0.3108 - val_acc: 0.8690\n",
      "Epoch 2/30\n",
      "100/100 [==============================] - 192s 2s/step - loss: 0.3535 - acc: 0.8365 - val_loss: 0.2770 - val_acc: 0.8780\n",
      "Epoch 3/30\n",
      "100/100 [==============================] - 191s 2s/step - loss: 0.2924 - acc: 0.8695 - val_loss: 0.2155 - val_acc: 0.9160\n",
      "Epoch 4/30\n",
      "100/100 [==============================] - 189s 2s/step - loss: 0.2762 - acc: 0.8785 - val_loss: 0.2052 - val_acc: 0.9200\n",
      "Epoch 5/30\n",
      "100/100 [==============================] - 184s 2s/step - loss: 0.2572 - acc: 0.8930 - val_loss: 0.3025 - val_acc: 0.8670\n",
      "Epoch 6/30\n",
      "100/100 [==============================] - 189s 2s/step - loss: 0.2590 - acc: 0.8950 - val_loss: 0.2516 - val_acc: 0.8900\n",
      "Epoch 7/30\n",
      "100/100 [==============================] - 192s 2s/step - loss: 0.2497 - acc: 0.8945 - val_loss: 0.2025 - val_acc: 0.9180\n",
      "Epoch 8/30\n",
      "100/100 [==============================] - 190s 2s/step - loss: 0.2487 - acc: 0.8940 - val_loss: 0.2111 - val_acc: 0.9080\n",
      "Epoch 9/30\n",
      "100/100 [==============================] - 189s 2s/step - loss: 0.2278 - acc: 0.9055 - val_loss: 0.2144 - val_acc: 0.9050\n",
      "Epoch 10/30\n",
      "100/100 [==============================] - 188s 2s/step - loss: 0.2384 - acc: 0.8990 - val_loss: 0.1817 - val_acc: 0.9230\n",
      "Epoch 11/30\n",
      "100/100 [==============================] - 189s 2s/step - loss: 0.1972 - acc: 0.9250 - val_loss: 0.1853 - val_acc: 0.9240\n",
      "Epoch 12/30\n",
      "100/100 [==============================] - 196s 2s/step - loss: 0.2195 - acc: 0.9135 - val_loss: 0.2025 - val_acc: 0.9160\n",
      "Epoch 13/30\n",
      "100/100 [==============================] - 191s 2s/step - loss: 0.1974 - acc: 0.9180 - val_loss: 0.1831 - val_acc: 0.9230\n",
      "Epoch 14/30\n",
      "100/100 [==============================] - 194s 2s/step - loss: 0.2211 - acc: 0.9110 - val_loss: 0.2322 - val_acc: 0.9010\n",
      "Epoch 15/30\n",
      "100/100 [==============================] - 190s 2s/step - loss: 0.1936 - acc: 0.9185 - val_loss: 0.1822 - val_acc: 0.9250\n",
      "Epoch 16/30\n",
      "100/100 [==============================] - 191s 2s/step - loss: 0.1972 - acc: 0.9185 - val_loss: 0.1807 - val_acc: 0.9330\n",
      "Epoch 17/30\n",
      "100/100 [==============================] - 188s 2s/step - loss: 0.1897 - acc: 0.9195 - val_loss: 0.1840 - val_acc: 0.9280\n",
      "Epoch 18/30\n",
      "100/100 [==============================] - 191s 2s/step - loss: 0.1886 - acc: 0.9240 - val_loss: 0.1842 - val_acc: 0.9190\n",
      "Epoch 19/30\n",
      "100/100 [==============================] - 190s 2s/step - loss: 0.1887 - acc: 0.9215 - val_loss: 0.1920 - val_acc: 0.9150\n",
      "Epoch 20/30\n",
      "100/100 [==============================] - 190s 2s/step - loss: 0.2001 - acc: 0.9165 - val_loss: 0.1795 - val_acc: 0.9240\n",
      "Epoch 21/30\n",
      "100/100 [==============================] - 188s 2s/step - loss: 0.1730 - acc: 0.9300 - val_loss: 0.1794 - val_acc: 0.9290\n",
      "Epoch 22/30\n",
      "100/100 [==============================] - 187s 2s/step - loss: 0.1589 - acc: 0.9335 - val_loss: 0.1915 - val_acc: 0.9320\n",
      "Epoch 23/30\n",
      "100/100 [==============================] - 188s 2s/step - loss: 0.1788 - acc: 0.9285 - val_loss: 0.2048 - val_acc: 0.9170\n",
      "Epoch 24/30\n",
      "100/100 [==============================] - 190s 2s/step - loss: 0.1574 - acc: 0.9325 - val_loss: 0.1847 - val_acc: 0.9230\n",
      "Epoch 25/30\n",
      "100/100 [==============================] - 191s 2s/step - loss: 0.1579 - acc: 0.9365 - val_loss: 0.1853 - val_acc: 0.9280\n",
      "Epoch 26/30\n",
      "100/100 [==============================] - 189s 2s/step - loss: 0.1771 - acc: 0.9305 - val_loss: 0.1850 - val_acc: 0.9180\n",
      "Epoch 27/30\n",
      "100/100 [==============================] - 188s 2s/step - loss: 0.1633 - acc: 0.9345 - val_loss: 0.1934 - val_acc: 0.9230\n",
      "Epoch 28/30\n",
      "100/100 [==============================] - 188s 2s/step - loss: 0.1452 - acc: 0.9430 - val_loss: 0.1775 - val_acc: 0.9310\n",
      "Epoch 29/30\n",
      "100/100 [==============================] - 188s 2s/step - loss: 0.1527 - acc: 0.9375 - val_loss: 0.1862 - val_acc: 0.9280\n",
      "Epoch 30/30\n",
      "100/100 [==============================] - 188s 2s/step - loss: 0.1803 - acc: 0.9305 - val_loss: 0.1812 - val_acc: 0.9210\n"
     ]
    }
   ],
   "source": [
    "# 데이터 준비가 끝났으며 이제 Model을 생성해야 해요!\n",
    "# 우리는 CNN모델을 처음부터 끝까지 만드는게 아니에요!\n",
    "# Feature Extraction부분은 VGG16을 이용해서 사용하구요!\n",
    "# 뒤쪽에 classifier부분만우리가 직접 구현할꺼예요!\n",
    "\n",
    "# Pretrained Network\n",
    "model_base = VGG16(weights='imagenet',\n",
    "                   include_top=False,\n",
    "                   input_shape=(224, 224, 3))\n",
    "\n",
    "model_base.trainable = False  # Convolution Layer 동결!\n",
    "\n",
    "# model_base.summary()\n",
    "# input_1 (InputLayer)         [(None, 224, 224, 3)]     0\n",
    "# 이 모델은 입력으로 (224, 224, 3) 형태를 받아요!\n",
    "# 이미지 1장이 결국 (7, 7, 512) 형태로 변환되요!\n",
    "# 기본적으로 classifier가 포함되어 있어요!\n",
    "# classifier는 사용할 수 없으니 제거해야 해요!\n",
    "\n",
    "# Total params: 14,714,688 => 전체 파라미터의 수\n",
    "# \n",
    "# ==> epoch이 진행될때 자동으로 update되는 파라미터의 수\n",
    "# ==> 이렇게 두면 안되요. . . 학습이 안되도록 처리해야 해요!\n",
    "# ==> 이렇게 되야 해요 ! Non-trainable params: 14,714,688\n",
    "\n",
    "# 모델을 완성하면 되요!\n",
    "model = Sequential()\n",
    "\n",
    "model.add(model_base)  # 우리 모델의 앞부분에 pretrained network를 삽입!\n",
    "\n",
    "# classifier를 구현\n",
    "model.add(Flatten())\n",
    "\n",
    "# Hidden Layer\n",
    "model.add(Dense(units=512,\n",
    "                activation='relu'))\n",
    "\n",
    "model.add(Dropout(rate=0.5))\n",
    "\n",
    "# Output Layer\n",
    "model.add(Dense(units=1,\n",
    "                activation='sigmoid'))\n",
    "\n",
    "# model.summary()\n",
    "\n",
    "model.compile(optimizer=Adam(learning_rate=1e-4),\n",
    "              loss='binary_crossentropy',\n",
    "              metrics=['acc'])\n",
    "\n",
    "history = model.fit(train_generator,\n",
    "                    steps_per_epoch=100,\n",
    "                    epochs=30,\n",
    "                    validation_data=validation_generator,\n",
    "                    validation_steps=50,\n",
    "                    verbose=1)"
   ]
  },
  {
   "cell_type": "code",
   "execution_count": 11,
   "metadata": {},
   "outputs": [
    {
     "data": {
      "image/png": "[encoded data removed]",
      "text/plain": [
       "<Figure size 432x288 with 1 Axes>"
      ]
     },
     "metadata": {
      "needs_background": "light"
     },
     "output_type": "display_data"
    },
    {
     "data": {
      "image/png": "[encoded data removed]",
      "text/plain": [
       "<Figure size 432x288 with 1 Axes>"
      ]
     },
     "metadata": {
      "needs_background": "light"
     },
     "output_type": "display_data"
    }
   ],
   "source": [
    "# 학습이 끝난 다음에는 당연히 시각화해서 overfitting이 발생하는지 확인을 해야해요!\n",
    "# loss와 val_loss, acc와 val_acc를 비교해서 overfitting의 정도를 확인해야 되요!\n",
    "train_loss = history.history['loss']\n",
    "validation_loss = history.history['val_loss']\n",
    "\n",
    "train_acc = history.history['acc']\n",
    "validation_acc = history.history['val_acc']\n",
    "\n",
    "plt.plot(train_loss,\n",
    "         'o',\n",
    "         color='r',\n",
    "         label='training data loss')\n",
    "plt.plot(validation_loss,\n",
    "         color='b',\n",
    "         label='validation loss')\n",
    "plt.legend()\n",
    "plt.show()\n",
    "\n",
    "plt.plot(train_acc,\n",
    "         'o',\n",
    "         color='r',\n",
    "         label='training data acc')\n",
    "plt.plot(validation_acc,\n",
    "         color='b',\n",
    "         label='validation acc')\n",
    "plt.legend()\n",
    "plt.show()"
   ]
  },
  {
   "cell_type": "code",
   "execution_count": 12,
   "metadata": {},
   "outputs": [],
   "source": [
    "# 우리가 학습한 모델을 일단 파일로 저장해 놓아요!\n",
    "model.save(r\"C:\\Users\\lee_0\\Documents\\my_ws\\edu\\machine_learning\\12.19.CNN_model.h5\")"
   ]
  },
  {
   "cell_type": "code",
   "execution_count": 15,
   "metadata": {},
   "outputs": [
    {
     "name": "stdout",
     "output_type": "stream",
     "text": [
      "Model: \"vgg16\"\n",
      "_________________________________________________________________\n",
      "Layer (type)                 Output Shape              Param #   \n",
      "=================================================================\n",
      "input_6 (InputLayer)         [(None, 224, 224, 3)]     0         \n",
      "_________________________________________________________________\n",
      "block1_conv1 (Conv2D)        (None, 224, 224, 64)      1792      \n",
      "_________________________________________________________________\n",
      "block1_conv2 (Conv2D)        (None, 224, 224, 64)      36928     \n",
      "_________________________________________________________________\n",
      "block1_pool (MaxPooling2D)   (None, 112, 112, 64)      0         \n",
      "_________________________________________________________________\n",
      "block2_conv1 (Conv2D)        (None, 112, 112, 128)     73856     \n",
      "_________________________________________________________________\n",
      "block2_conv2 (Conv2D)        (None, 112, 112, 128)     147584    \n",
      "_________________________________________________________________\n",
      "block2_pool (MaxPooling2D)   (None, 56, 56, 128)       0         \n",
      "_________________________________________________________________\n",
      "block3_conv1 (Conv2D)        (None, 56, 56, 256)       295168    \n",
      "_________________________________________________________________\n",
      "block3_conv2 (Conv2D)        (None, 56, 56, 256)       590080    \n",
      "_________________________________________________________________\n",
      "block3_conv3 (Conv2D)        (None, 56, 56, 256)       590080    \n",
      "_________________________________________________________________\n",
      "block3_pool (MaxPooling2D)   (None, 28, 28, 256)       0         \n",
      "_________________________________________________________________\n",
      "block4_conv1 (Conv2D)        (None, 28, 28, 512)       1180160   \n",
      "_________________________________________________________________\n",
      "block4_conv2 (Conv2D)        (None, 28, 28, 512)       2359808   \n",
      "_________________________________________________________________\n",
      "block4_conv3 (Conv2D)        (None, 28, 28, 512)       2359808   \n",
      "_________________________________________________________________\n",
      "block4_pool (MaxPooling2D)   (None, 14, 14, 512)       0         \n",
      "_________________________________________________________________\n",
      "block5_conv1 (Conv2D)        (None, 14, 14, 512)       2359808   \n",
      "_________________________________________________________________\n",
      "block5_conv2 (Conv2D)        (None, 14, 14, 512)       2359808   \n",
      "_________________________________________________________________\n",
      "block5_conv3 (Conv2D)        (None, 14, 14, 512)       2359808   \n",
      "_________________________________________________________________\n",
      "block5_pool (MaxPooling2D)   (None, 7, 7, 512)         0         \n",
      "=================================================================\n",
      "Total params: 14,714,688\n",
      "Trainable params: 0\n",
      "Non-trainable params: 14,714,688\n",
      "_________________________________________________________________\n"
     ]
    }
   ],
   "source": [
    "# Fine Tunning\n",
    "# 이미 위쪽에서 학습이 한 번 끝났기 때문에 여기에 추가적으로\n",
    "# 상위 convolution layer의 동결을 풀고 학습을 한번더 수행하면 되요!\n",
    "\n",
    "# 먼저 파일로 저장되어 있는 model을 loading해야 해요!\n",
    "from tensorflow.keras.models import load_model\n",
    "\n",
    "model = load_model(r\"C:\\Users\\lee_0\\Documents\\my_ws\\edu\\machine_learning\\12.19.CNN_model.h5\")\n",
    "\n",
    "# model.summary()\n",
    "\n",
    "# 여기까지가 한번 Transfer Learning을 이용해서 학습이 완료된 상태예요!\n",
    "# 추가적인 작업이 필요한데. . . 일부 layer에 대한 동결을 해제해야 해요!\n",
    "# Pretrained Network\n",
    "model_base = VGG16(weights='imagenet',\n",
    "                   include_top=False,\n",
    "                   input_shape=(224, 224, 3))\n",
    "\n",
    "model_base.trainable = False  # Convolution Layer 동결\n",
    "\n",
    "# model_base.summary()\n",
    "\n",
    "for layer in model_base.layers:\n",
    "    if layer.name in ['block5_conv1', 'block5_conv2', 'block5_conv3']:\n",
    "        layer.trainable = True  # 이렇게 하면 해당 layer의 동결이 풀려야 해요!\n",
    "    else:\n",
    "        layer.trainable = False\n",
    "\n",
    "# 이렇게 모델을 다시 만들고 학습을 한번 더 진행하면 되요!\n",
    "# => fine tunning! (큰 변화는 아니지만 어느정도 모델의 정확도를 올릴 수 있어요!)\n",
    "        \n",
    "model_base.summary()"
   ]
  },
  {
   "cell_type": "code",
   "execution_count": 16,
   "metadata": {},
   "outputs": [
    {
     "name": "stdout",
     "output_type": "stream",
     "text": [
      "Downloading data from https://storage.googleapis.com/tensorflow/tf-keras-datasets/imdb.npz\n",
      "17465344/17464789 [==============================] - 2s 0us/step\n",
      "17473536/17464789 [==============================] - 2s 0us/step\n"
     ]
    }
   ],
   "source": [
    "# IMDB Review Data Set을 Loading해 보아요!\n",
    "# tensorflow keras에는 이미 정수로 바꾼 Review 데이터가 포함되어 있어요!\n",
    "# 가장 많이 등장하는 단어 500개만 vocabulary로 사용해서 데이터를 적재할 꺼예요!\n",
    "\n",
    "from tensorflow.keras.datasets import imdb\n",
    "\n",
    "(x_data_train, t_data_train), (x_data_test, t_data_test) = \\\n",
    "imdb.load_data(num_words=500)"
   ]
  },
  {
   "cell_type": "code",
   "execution_count": 21,
   "metadata": {},
   "outputs": [
    {
     "name": "stdout",
     "output_type": "stream",
     "text": [
      "238.71364\n",
      "178.0\n"
     ]
    },
    {
     "data": {
      "image/png": "[encoded data removed]",
      "text/plain": [
       "<Figure size 432x288 with 1 Axes>"
      ]
     },
     "metadata": {
      "needs_background": "light"
     },
     "output_type": "display_data"
    },
    {
     "name": "stdout",
     "output_type": "stream",
     "text": [
      "<class 'numpy.ndarray'>\n",
      "(25000, 100)\n"
     ]
    }
   ],
   "source": [
    "# 데이터가적재가 다 됬으면 이제 데이터가 어떻게 구성되는지 한번 알아보아요!\n",
    "# print(x_data_train.shape)  # (25000,)\n",
    "# print(t_data_train.shape)  # (25000,)\n",
    "\n",
    "# print(x_data_test.shape)  # (25000,)\n",
    "# print(t_data_test.shape)  # (25000,)\n",
    "\n",
    "# 일단 train data : 25,000, test data : 25,000개 있어요!\n",
    "# t_data_train 내용을 살짝보면\n",
    "# print(t_data_train[:10])  # [1 0 0 1 0 0 1 0 1 0] 0은 부정, 1은 긍정의 의미\n",
    "# print(x_data_train[0])  # 이 안에 들어있는게 python 리스트예요!\n",
    "# print(type(x_data_train))  # <class 'numpy.ndarray'>\n",
    "# print(type(x_data_train[0]))  # <class 'list'>\n",
    "\n",
    "# 첫 번째 review의 길이(첫 번째 Review는 몇 개의 단어로 구성되어 있나요?)\n",
    "# print(len(x_data_train[0]))  # 218\n",
    "# 두 번째 review의 길이(두 번째 Review는 몇 개의 단어로 구성되어 있나요?)\n",
    "# print(len(x_data_train[1]))  # 189\n",
    "\n",
    "# padding에 대해서 살짝 알아보아요!\n",
    "# 각 Review의 길이에 대해서 알아보아요!\n",
    "import numpy as np\n",
    "import matplotlib.pyplot as plt\n",
    "\n",
    "lengths = np.array([len(x) for x in x_data_train])\n",
    "# print(lengths[:10])\n",
    "# [218 189 141 550 147  43 123 562 233 130]\n",
    "\n",
    "# 모든 Review의 평균길이와 중간값을 출력해보아요!\n",
    "print(np.mean(lengths))\n",
    "print(np.median(lengths))\n",
    "\n",
    "plt.hist(lengths)\n",
    "plt.show()\n",
    "\n",
    "# 평균과 중위값과 히스토그램을 살펴본 결과\n",
    "# 대부분의 review는 길이가 300 token미만인걸로 파악되요!\n",
    "# 실제로는 100token미만인 경우가 대대수일꺼예요!\n",
    "\n",
    "# 그래서 우리는 모든 Review의 길이를 100에 맞출꺼예요!\n",
    "# 첫 번째 경우는 100보다 리뷰길이가 긴 리뷰는 리뷰가 짤려요!\n",
    "#                      앞쪽 데이터를 짤라요!\n",
    "# 두 번째 경우는 100보다 리뷰길이가 짧은 리뷰는 리뷰를 채워줘야해요! => padding\n",
    "#                      패딩을 당연히 앞쪽에 붙여야 겠죠.\n",
    "\n",
    "# 이 작업을 위해서 keras가 우리에게 함수 하나 제공해 줘요!\n",
    "\n",
    "from tensorflow.keras.preprocessing.sequence import pad_sequences\n",
    "\n",
    "x_data_train_seq = pad_sequences(x_data_train, maxlen=100)\n",
    "print(type(x_data_train_seq))\n",
    "print(x_data_train_seq.shape)\n",
    "# 25,000개의 review, 각 review는 100개의 token으로 재단되었어요!"
   ]
  }
 ],
 "metadata": {
  "kernelspec": {
   "display_name": "ml",
   "language": "python",
   "name": "python3"
  },
  "language_info": {
   "codemirror_mode": {
    "name": "ipython",
    "version": 3
   },
   "file_extension": ".py",
   "mimetype": "text/x-python",
   "name": "python",
   "nbconvert_exporter": "python",
   "pygments_lexer": "ipython3",
   "version": "3.6.13"
  }
 },
 "nbformat": 4,
 "nbformat_minor": 2
}
