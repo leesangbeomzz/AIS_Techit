{
 "cells": [
  {
   "cell_type": "code",
   "execution_count": 5,
   "metadata": {},
   "outputs": [],
   "source": [
    "# Logistic Regression을 구현해 보아요!\n",
    "\n",
    "import numpy as np\n",
    "\n",
    "import pandas as pd\n",
    "\n",
    "import matplotlib.pyplot as plt\n",
    "\n",
    "from scipy import stats\n",
    "\n",
    "from sklearn import datasets\n",
    "from sklearn.preprocessing import MinMaxScaler, StandardScaler\n",
    "from sklearn import linear_model\n",
    "from sklearn.model_selection import cross_val_score\n",
    "\n",
    "from tensorflow.keras.models import Sequential\n",
    "from tensorflow.keras.layers import Flatten, Dense\n",
    "from tensorflow.keras.optimizers import SGD, Adam\n",
    "\n",
    "from imblearn.over_sampling import SMOTE\n"
   ]
  },
  {
   "cell_type": "code",
   "execution_count": 6,
   "metadata": {},
   "outputs": [
    {
     "data": {
      "image/png": "[encoded data removed]",
      "text/plain": [
       "<Figure size 432x288 with 3 Axes>"
      ]
     },
     "metadata": {
      "needs_background": "light"
     },
     "output_type": "display_data"
    },
    {
     "name": "stdout",
     "output_type": "stream",
     "text": [
      "(382, 4)\n"
     ]
    }
   ],
   "source": [
    "# Raw Data Loading\n",
    "df = pd.read_csv(r'C:\\Users\\lee_0\\Desktop\\코딩\\ML\\12.04\\admission.csv')\n",
    "# display(df)  # 400 rows × 4 columns\n",
    "\n",
    "# 결측치 부터 알아보아요!\n",
    "# df.info()\n",
    "# df.isnull().sum()\n",
    "# 결측치는 존재하지 않아요!\n",
    "\n",
    "# 이상치도 알아보아야 해요!\n",
    "# 이상치를 눈으로 확인하려면 boxplot을 그려보면 되요!\n",
    "fig = plt.figure()\n",
    "fig_gre = fig.add_subplot(1, 3, 1)\n",
    "fig_gpa = fig.add_subplot(1, 3, 2)\n",
    "fig_rank = fig.add_subplot(1, 3, 3)\n",
    "\n",
    "fig_gre.boxplot(df['gre'])\n",
    "fig_gpa.boxplot(df['gpa'])\n",
    "fig_rank.boxplot(df['rank'])\n",
    "\n",
    "plt.tight_layout()\n",
    "plt.show()\n",
    "\n",
    "# 수치상 이상치로 표현이 되지만\n",
    "# 실제 데이터예요!(이상치가 아니예요!)\n",
    "# 하지만 우리 학습을 위해 이상치로 판별된 데이터 삭제 진행\n",
    "\n",
    "zscore_threshold = 2.0  # zscore 임계값 -2이하, 2이상이면 이상치\n",
    "\n",
    "for col in df.columns:\n",
    "    outlier = df[col][np.abs(stats.zscore(df[col])) > zscore_threshold]\n",
    "    df = df.loc[np.isin(df[col], outlier, invert=True)]\n",
    "\n",
    "print(df.shape)  # (382, 4) 18개의 데이터가 이상치로 제거!\n",
    "\n",
    "# 정규화를 진행해야 해요!\n",
    "x_data = df.drop('admit', axis=1, inplace=False).values\n",
    "t_data = df['admit'].values.reshape(-1, 1)\n",
    "\n",
    "scaler = MinMaxScaler()\n",
    "scaler.fit(x_data)\n",
    "x_data_norm = scaler.transform(x_data)"
   ]
  },
  {
   "cell_type": "code",
   "execution_count": 7,
   "metadata": {},
   "outputs": [
    {
     "name": "stdout",
     "output_type": "stream",
     "text": [
      "[[0.43740782 0.56259218]]\n"
     ]
    }
   ],
   "source": [
    "# Model을 구현해 보아요!\n",
    "# sklearn부터 구현해 보아요!\n",
    "\n",
    "sklearn_model = linear_model.LogisticRegression()\n",
    "sklearn_model.fit(x_data,\n",
    "                  t_data.ravel())\n",
    "\n",
    "# predict\n",
    "predict_value = np.array([[600, 3.8, 1]])\n",
    "result_proba = sklearn_model.predict_proba(predict_value)\n",
    "print(result_proba)  # [[0.43740782 0.56259218]]"
   ]
  },
  {
   "cell_type": "code",
   "execution_count": 8,
   "metadata": {},
   "outputs": [
    {
     "name": "stdout",
     "output_type": "stream",
     "text": [
      "[[0.3464958]]\n"
     ]
    }
   ],
   "source": [
    "# Tensorflow Keras로 구현해 보아요!\n",
    "\n",
    "keras_model = Sequential()\n",
    "\n",
    "keras_model.add(Flatten(input_shape=(3,)))\n",
    "keras_model.add(Dense(units=1,\n",
    "                      activation='sigmoid'))\n",
    "\n",
    "keras_model.compile(optimizer=SGD(learning_rate=1e-4),\n",
    "                    loss='binary_crossentropy')\n",
    "\n",
    "keras_model.fit(x_data_norm,\n",
    "                t_data,\n",
    "                epochs=500,\n",
    "                verbose=0)\n",
    "\n",
    "# predict\n",
    "predict_value = np.array([[600, 3.8, 1]])\n",
    "predict_value_norm = scaler.transform(predict_value)\n",
    "result = keras_model.predict(predict_value_norm)\n",
    "print(result)  # [[0.29621825]]"
   ]
  },
  {
   "cell_type": "code",
   "execution_count": 9,
   "metadata": {},
   "outputs": [
    {
     "data": {
      "image/png": "[encoded data removed]",
      "text/plain": [
       "<Figure size 432x288 with 3 Axes>"
      ]
     },
     "metadata": {
      "needs_background": "light"
     },
     "output_type": "display_data"
    }
   ],
   "source": [
    "# 데이터 로딩과 전처리!\n",
    "\n",
    "# Raw Data Loading\n",
    "df = pd.read_csv(r\"C:\\Users\\lee_0\\Desktop\\코딩\\ML\\11.29\\ozone.csv\")\n",
    "\n",
    "training_data = df[['Solar.R', 'Wind', 'Temp', 'Ozone']]\n",
    "\n",
    "# 이렇게 데이터를 가져온 후 당연히 데이터 전처리를 해야 해요!\n",
    "# 1. 결측치 처리\n",
    "training_data = training_data.dropna(how='any')\n",
    "\n",
    "# 2. 이상치 처리!\n",
    "zscore_threshold = 1.8\n",
    "\n",
    "outlier = training_data['Ozone'][np.abs(stats.zscore(training_data['Ozone'].values)) > zscore_threshold]\n",
    "\n",
    "# 이상치를 제거한 결과를 얻어야 해요!\n",
    "# 내가 가진 DataFrame에서 이상치를 제거하면 되요!\n",
    "training_data = training_data.loc[np.isin(training_data['Ozone'], outlier, invert=True)]\n",
    "\n",
    "x_data = training_data.drop('Ozone', axis=1, inplace=False).values\n",
    "t_data = training_data['Ozone'].values.reshape(-1, 1)\n",
    "\n",
    "# 3. 정규화 진행(Normalization)\n",
    "#    모든 feature에 대해 scale을 0과 1로 변경!\n",
    "#    이렇게 해야 해요!\n",
    "#    프로그램적으로 이 작업을 하려면 코드작업을 해야해서 좀 그래요!\n",
    "#    sklearn을 이용하면 이 정규화 작업을 아주 쉽게 할 수 있어요!\n",
    "scaled_x = MinMaxScaler()\n",
    "scaled_t = MinMaxScaler()\n",
    "\n",
    "standard_scaler = StandardScaler()\n",
    "\n",
    "scaled_x.fit(x_data)\n",
    "scaled_t.fit(t_data)\n",
    "\n",
    "standard_scaler.fit(x_data)\n",
    "\n",
    "# 정규화된 Training Data Set 준비\n",
    "x_data_norm = scaled_x.transform(x_data)\n",
    "t_data_norm = scaled_t.transform(t_data)\n",
    "x_data_stand_norm = standard_scaler.transform(x_data)\n",
    "\n",
    "fig = plt.figure()\n",
    "fig_ori = fig.add_subplot(1, 3, 1)\n",
    "fig_minmax = fig.add_subplot(1, 3, 2)\n",
    "fig_stand = fig.add_subplot(1, 3, 3)\n",
    "\n",
    "fig_ori.boxplot(x_data)\n",
    "fig_minmax.boxplot(x_data_norm)\n",
    "fig_stand.boxplot(x_data_stand_norm)\n",
    "\n",
    "plt.tight_layout()\n",
    "plt.show()"
   ]
  },
  {
   "cell_type": "code",
   "execution_count": 10,
   "metadata": {},
   "outputs": [
    {
     "data": {
      "text/html": [
       "<div>\n",
       "<style scoped>\n",
       "    .dataframe tbody tr th:only-of-type {\n",
       "        vertical-align: middle;\n",
       "    }\n",
       "\n",
       "    .dataframe tbody tr th {\n",
       "        vertical-align: top;\n",
       "    }\n",
       "\n",
       "    .dataframe thead th {\n",
       "        text-align: right;\n",
       "    }\n",
       "</style>\n",
       "<table border=\"1\" class=\"dataframe\">\n",
       "  <thead>\n",
       "    <tr style=\"text-align: right;\">\n",
       "      <th></th>\n",
       "      <th>mean radius</th>\n",
       "      <th>mean texture</th>\n",
       "      <th>mean area</th>\n",
       "      <th>mean symmetry</th>\n",
       "      <th>target</th>\n",
       "    </tr>\n",
       "  </thead>\n",
       "  <tbody>\n",
       "    <tr>\n",
       "      <th>0</th>\n",
       "      <td>17.99</td>\n",
       "      <td>10.38</td>\n",
       "      <td>1001.0</td>\n",
       "      <td>0.2419</td>\n",
       "      <td>0</td>\n",
       "    </tr>\n",
       "    <tr>\n",
       "      <th>1</th>\n",
       "      <td>20.57</td>\n",
       "      <td>17.77</td>\n",
       "      <td>1326.0</td>\n",
       "      <td>0.1812</td>\n",
       "      <td>0</td>\n",
       "    </tr>\n",
       "    <tr>\n",
       "      <th>2</th>\n",
       "      <td>19.69</td>\n",
       "      <td>21.25</td>\n",
       "      <td>1203.0</td>\n",
       "      <td>0.2069</td>\n",
       "      <td>0</td>\n",
       "    </tr>\n",
       "    <tr>\n",
       "      <th>3</th>\n",
       "      <td>11.42</td>\n",
       "      <td>20.38</td>\n",
       "      <td>386.1</td>\n",
       "      <td>0.2597</td>\n",
       "      <td>0</td>\n",
       "    </tr>\n",
       "    <tr>\n",
       "      <th>4</th>\n",
       "      <td>20.29</td>\n",
       "      <td>14.34</td>\n",
       "      <td>1297.0</td>\n",
       "      <td>0.1809</td>\n",
       "      <td>0</td>\n",
       "    </tr>\n",
       "    <tr>\n",
       "      <th>...</th>\n",
       "      <td>...</td>\n",
       "      <td>...</td>\n",
       "      <td>...</td>\n",
       "      <td>...</td>\n",
       "      <td>...</td>\n",
       "    </tr>\n",
       "    <tr>\n",
       "      <th>564</th>\n",
       "      <td>21.56</td>\n",
       "      <td>22.39</td>\n",
       "      <td>1479.0</td>\n",
       "      <td>0.1726</td>\n",
       "      <td>0</td>\n",
       "    </tr>\n",
       "    <tr>\n",
       "      <th>565</th>\n",
       "      <td>20.13</td>\n",
       "      <td>28.25</td>\n",
       "      <td>1261.0</td>\n",
       "      <td>0.1752</td>\n",
       "      <td>0</td>\n",
       "    </tr>\n",
       "    <tr>\n",
       "      <th>566</th>\n",
       "      <td>16.60</td>\n",
       "      <td>28.08</td>\n",
       "      <td>858.1</td>\n",
       "      <td>0.1590</td>\n",
       "      <td>0</td>\n",
       "    </tr>\n",
       "    <tr>\n",
       "      <th>567</th>\n",
       "      <td>20.60</td>\n",
       "      <td>29.33</td>\n",
       "      <td>1265.0</td>\n",
       "      <td>0.2397</td>\n",
       "      <td>0</td>\n",
       "    </tr>\n",
       "    <tr>\n",
       "      <th>568</th>\n",
       "      <td>7.76</td>\n",
       "      <td>24.54</td>\n",
       "      <td>181.0</td>\n",
       "      <td>0.1587</td>\n",
       "      <td>1</td>\n",
       "    </tr>\n",
       "  </tbody>\n",
       "</table>\n",
       "<p>569 rows × 5 columns</p>\n",
       "</div>"
      ],
      "text/plain": [
       "     mean radius  mean texture  mean area  mean symmetry  target\n",
       "0          17.99         10.38     1001.0         0.2419       0\n",
       "1          20.57         17.77     1326.0         0.1812       0\n",
       "2          19.69         21.25     1203.0         0.2069       0\n",
       "3          11.42         20.38      386.1         0.2597       0\n",
       "4          20.29         14.34     1297.0         0.1809       0\n",
       "..           ...           ...        ...            ...     ...\n",
       "564        21.56         22.39     1479.0         0.1726       0\n",
       "565        20.13         28.25     1261.0         0.1752       0\n",
       "566        16.60         28.08      858.1         0.1590       0\n",
       "567        20.60         29.33     1265.0         0.2397       0\n",
       "568         7.76         24.54      181.0         0.1587       1\n",
       "\n",
       "[569 rows x 5 columns]"
      ]
     },
     "metadata": {},
     "output_type": "display_data"
    }
   ],
   "source": [
    "# Imbalanced Data Problem을 해결해 보아요!\n",
    "# SMOTE 알고리즘을 이용해 보아요!\n",
    "\n",
    "# 불균형한 데이터가 있어야 해요!\n",
    "# 유방암 예측 데이터셋을 해 보아요!\n",
    "\n",
    "# 상당히 많은 feature가 있는데 그 중 4개만 골라서 사용해 보아요!\n",
    "# feature의 의미는 자세히 알 필요는 없어요! 의학용어\n",
    "\n",
    "# Raw Data Loading\n",
    "data = datasets.load_breast_cancer()\n",
    "\n",
    "df = pd.DataFrame(data.data,\n",
    "                  columns=data.feature_names)\n",
    "# display(df)  # 569 rows × 30 columns\n",
    "\n",
    "df = df[['mean radius', 'mean texture', 'mean area', 'mean symmetry']]\n",
    "# display(df)  # 569 rows × 4 columns\n",
    "\n",
    "# target이 1이면 양성종양(좋은거), 0이면 악성종양(나쁜거) 열 지정\n",
    "df['target'] = data.target\n",
    "display(df)  # 569 rows × 5 columns"
   ]
  },
  {
   "cell_type": "code",
   "execution_count": 11,
   "metadata": {},
   "outputs": [
    {
     "data": {
      "text/plain": [
       "1    357\n",
       "0    212\n",
       "Name: target, dtype: int64"
      ]
     },
     "execution_count": 11,
     "metadata": {},
     "output_type": "execute_result"
    }
   ],
   "source": [
    "# 위의 데이터셋은 label이 0 or 1로 구성되어 있어요.\n",
    "# 이진분류 문제...=> logistic regression으로 나중에 학습이 될꺼예요!\n",
    "\n",
    "# 학습하기 전에... 데이터부터 정제해야 해요!\n",
    "# label의 개수를 한번 세어 보아요!\n",
    "df['target'].value_counts()"
   ]
  },
  {
   "cell_type": "code",
   "execution_count": 12,
   "metadata": {},
   "outputs": [
    {
     "data": {
      "text/plain": [
       "1    357\n",
       "0    357\n",
       "Name: target, dtype: int64"
      ]
     },
     "execution_count": 12,
     "metadata": {},
     "output_type": "execute_result"
    }
   ],
   "source": [
    "x_data = df[['mean radius', 'mean texture', 'mean area', 'mean symmetry']]\n",
    "t_data = df['target']\n",
    "\n",
    "new_x, new_t = SMOTE(random_state=22).fit_resample(x_data, t_data)\n",
    "\n",
    "new_t.value_counts()"
   ]
  },
  {
   "cell_type": "code",
   "execution_count": 13,
   "metadata": {},
   "outputs": [
    {
     "data": {
      "image/png": "[encoded data removed]",
      "text/plain": [
       "<Figure size 432x288 with 1 Axes>"
      ]
     },
     "metadata": {
      "needs_background": "light"
     },
     "output_type": "display_data"
    }
   ],
   "source": [
    "# Raw Data Loading\n",
    "cancer = datasets.load_breast_cancer()\n",
    "# cancer안에 data속성에 x_data(독립변수)가 들어있고\n",
    "#                  target속성에 t_data(종속변수)가 들어있어요!\n",
    "# shape을 한번 살펴보아요!\n",
    "# print(cancer.data.shape)  # (569, 30)\n",
    "# print(cancer.target.shape)  # (569,) 0이면 악성종양, 1이면 양성종양\n",
    "\n",
    "# x_data, t_data로 변환\n",
    "x_data = cancer.data\n",
    "t_data = cancer.target_names\n",
    "\n",
    "# boxplot을 한번 그려보아요! => 이상치 확인!\n",
    "plt.boxplot(x_data)\n",
    "plt.show()\n",
    "\n",
    "# 결측치는 없구요\n",
    "# 이상치는 처리하지 않을꺼예요. 수치상으로는 이상치이지만\n",
    "# 실제로는 이상치가 아니거든요!\n",
    "\n",
    "# 정규화는 해 줘야 할 거 같아요!\n",
    "scaler = MinMaxScaler()\n",
    "scaler.fit(x_data)\n",
    "x_data_norm = scaler.transform(x_data)\n",
    "\n",
    "# 데이터를 분리해야 해요!\n",
    "# Training Data Set, Test Data Set으로 분리하는데 8:2비율로 분리할꺼예요!\n",
    "# 데이터 분리할때 조심해야 하는 점이 있어요. 분리된 데이터는 데이터의 비대칭이\n",
    "# 발생하면 안되요!\n",
    "# 전체 데이터에... 0:1의 비율이 40:60이라면\n",
    "# Training Data Set의 0과 1의 비율도 4:6 이어야 하고\n",
    "# Test Data Set의 0과 1의 비율도 4:6 이어야 해요!"
   ]
  }
 ],
 "metadata": {
  "kernelspec": {
   "display_name": "ml_venv",
   "language": "python",
   "name": "python3"
  },
  "language_info": {
   "codemirror_mode": {
    "name": "ipython",
    "version": 3
   },
   "file_extension": ".py",
   "mimetype": "text/x-python",
   "name": "python",
   "nbconvert_exporter": "python",
   "pygments_lexer": "ipython3",
   "version": "3.6.13"
  }
 },
 "nbformat": 4,
 "nbformat_minor": 2
}
