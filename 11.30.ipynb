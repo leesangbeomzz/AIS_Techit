{
 "cells": [
  {
   "cell_type": "code",
   "execution_count": 1,
   "metadata": {},
   "outputs": [
    {
     "name": "stderr",
     "output_type": "stream",
     "text": [
      "Matplotlib created a temporary config/cache directory at C:\\Users\\lee_0\\AppData\\Local\\Temp\\matplotlib-z8w13o4s because the default path (C:\\Users\\lee_0\\.matplotlib) is not a writable directory; it is highly recommended to set the MPLCONFIGDIR environment variable to a writable directory, in particular to speed up the import of Matplotlib and to better support multiprocessing.\n"
     ]
    }
   ],
   "source": [
    "# Simple(독립변수 1개) Linear Regression을 구현해 보아요!\n",
    "# 사용하는 데이터 ozone데이터를 이용할꺼예요!\n",
    "# 태양광세기, 바람, 온도를 기반으로 ozone량이 결정되는데\n",
    "# 이걸 측정한 데이터\n",
    "\n",
    "import numpy as np\n",
    "import pandas as pd\n",
    "import matplotlib.pyplot as plt\n",
    "\n",
    "from tensorflow.keras.models import Sequential\n",
    "from tensorflow.keras.layers import Flatten, Dense\n",
    "from tensorflow.keras.optimizers import SGD\n",
    "\n",
    "from sklearn import linear_model\n",
    "\n",
    "from scipy import stats"
   ]
  },
  {
   "cell_type": "code",
   "execution_count": 2,
   "metadata": {},
   "outputs": [
    {
     "name": "stdout",
     "output_type": "stream",
     "text": [
      "W : [[0.6055345]], b : [0.0084109], loss : 1026.3350039475224\n",
      "W : [[0.72323544]], b : [-12.23628202], loss : 815.9336616695679\n",
      "W : [[0.86528741]], b : [-23.46065676], loss : 773.9047541256523\n",
      "W : [[0.99550757]], b : [-33.75012999], loss : 738.5856182850491\n",
      "W : [[1.11488142]], b : [-43.18257159], loss : 708.9050619858147\n",
      "W : [[1.22431238]], b : [-51.82936552], loss : 683.9629052417305\n",
      "W : [[1.3246286]], b : [-59.75595], loss : 663.0026787294044\n",
      "W : [[1.41658928]], b : [-67.02231278], loss : 645.3886808719116\n",
      "W : [[1.50089036]], b : [-73.68344509], loss : 630.5866976806024\n",
      "W : [[1.57816983]], b : [-79.78975784], loss : 618.1478006074321\n"
     ]
    }
   ],
   "source": [
    "# Pyhton 직접구현\n",
    "\n",
    "## 수치미분 코드\n",
    "def numerical_derivative(f, x):\n",
    "\n",
    "    delta_x = 1e-4\n",
    "    derivative_x = np.zeros_like(x)\n",
    "\n",
    "    it = np.nditer(x, flags=['multi_index'])\n",
    "\n",
    "    while not it.finished:\n",
    "\n",
    "        idx = it.multi_index\n",
    "\n",
    "        tmp = x[idx]\n",
    "\n",
    "        x[idx] = tmp + delta_x\n",
    "        fx_plus_delta_x = f(x)\n",
    "\n",
    "        x[idx] = tmp - delta_x\n",
    "        fx_minus_delta_x = f(x)\n",
    "\n",
    "        derivative_x[idx] = (fx_plus_delta_x - fx_minus_delta_x) / (2 * delta_x)\n",
    "\n",
    "        x[idx] = tmp\n",
    "\n",
    "        it.iternext()\n",
    "\n",
    "    return derivative_x\n",
    "\n",
    "# Raw Data Loading\n",
    "df = pd.read_csv(r\"C:\\Users\\lee_0\\Desktop\\코딩\\ML\\11.29\\ozone.csv\")\n",
    "\n",
    "training_data = df[['Temp', 'Ozone']]\n",
    "\n",
    "# 1. 결측치 처리\n",
    "training_data = training_data.dropna(how='any')\n",
    "\n",
    "# Training Data Set 준비\n",
    "x_data = training_data['Temp'].values.reshape(-1, 1)\n",
    "t_data = training_data['Ozone'].values.reshape(-1, 1)\n",
    "\n",
    "# Model을 만들어야 하는데... y = Wx + b\n",
    "W = np.random.rand(1, 1)\n",
    "b = np.random.rand(1)\n",
    "\n",
    "# loss function(MSE)\n",
    "def loss_func(input_data):\n",
    "\n",
    "    input_w = input_data[0]\n",
    "    input_b = input_data[1]\n",
    "\n",
    "    y = np.dot(x_data, input_w) + input_b\n",
    "\n",
    "    return np.mean(np.power((t_data - y), 2))\n",
    "\n",
    "# 모델이 완성된 후 예측하는 함수를 하나 만들어요!\n",
    "def predict(x):\n",
    "\n",
    "    return np.dot(x, W) + b\n",
    "\n",
    "# learning rate 정의(hyperparameter)\n",
    "learning_rate = 1e-4\n",
    "\n",
    "# 학습진행\n",
    "for step in range(300000):\n",
    "\n",
    "    input_param = np.concatenate((W.ravel(), b.ravel()), axis=0)\n",
    "    derivative_result = learning_rate * numerical_derivative(loss_func, input_param)\n",
    "\n",
    "    W = W - derivative_result[0].reshape(-1, 1)\n",
    "    b = b - derivative_result[1]\n",
    "\n",
    "    if step % 30000 == 0:\n",
    "        print(f'W : {W}, b : {b}, loss : {loss_func(input_param)}')"
   ]
  },
  {
   "cell_type": "code",
   "execution_count": 3,
   "metadata": {},
   "outputs": [
    {
     "name": "stdout",
     "output_type": "stream",
     "text": [
      "[[16.85135247]]\n"
     ]
    },
    {
     "data": {
      "image/png": "[encoded data removed]",
      "text/plain": [
       "<Figure size 432x288 with 1 Axes>"
      ]
     },
     "metadata": {
      "needs_background": "light"
     },
     "output_type": "display_data"
    }
   ],
   "source": [
    "# 학습종료 후 예측\n",
    "# 온도가 62도일때 Ozone량은 얼마?\n",
    "print(predict(np.array([[62]])))  # [[16.87057092]]\n",
    "# 이거 맞는거야???\n",
    "# 그래프로 확인해 보아요!\n",
    "# (독립변수 1개니까 2차원 평면에 모델을 그릴수 있어요)\n",
    "\n",
    "# 데이터를 2차원 평면에 찍어보아요!\n",
    "plt.scatter(x_data, t_data)\n",
    "# 우리 모델을 그려보아요!\n",
    "plt.plot(x_data, x_data*W.ravel() + b, color='r')\n",
    "plt.show()"
   ]
  },
  {
   "cell_type": "code",
   "execution_count": 4,
   "metadata": {},
   "outputs": [
    {
     "data": {
      "text/plain": [
       "<keras.callbacks.History at 0x2b1d4cfe2b0>"
      ]
     },
     "execution_count": 4,
     "metadata": {},
     "output_type": "execute_result"
    }
   ],
   "source": [
    "# 같은 내용을이제 Tensorflow Keras를 이용해서 구현!\n",
    "\n",
    "# Raw Data Loading\n",
    "df = pd.read_csv(r\"C:\\Users\\lee_0\\Desktop\\코딩\\ML\\11.29\\ozone.csv\")\n",
    "\n",
    "training_data = df[['Temp', 'Ozone']]\n",
    "\n",
    "# 1. 결측치 처리\n",
    "training_data = training_data.dropna(how='any')\n",
    "\n",
    "# Training Data Set 준비\n",
    "x_data = training_data['Temp'].values.reshape(-1, 1)\n",
    "t_data = training_data['Ozone'].values.reshape(-1, 1)\n",
    "\n",
    "# Model 생성\n",
    "model = Sequential()\n",
    "\n",
    "model.add(Flatten(input_shape=(1,)))\n",
    "\n",
    "output_layer = Dense(units=1,\n",
    "                     activation='linear')\n",
    "\n",
    "model.add(output_layer)\n",
    "\n",
    "# Model 설정\n",
    "model.compile(optimizer=SGD(learning_rate=1e-4),\n",
    "              loss='mse')\n",
    "\n",
    "# Model 학습\n",
    "model.fit(x_data,\n",
    "          t_data,\n",
    "          epochs=2000,\n",
    "          verbose=0)"
   ]
  },
  {
   "cell_type": "code",
   "execution_count": 5,
   "metadata": {},
   "outputs": [
    {
     "name": "stdout",
     "output_type": "stream",
     "text": [
      "[[40.7541]]\n"
     ]
    },
    {
     "data": {
      "image/png": "[encoded data removed]",
      "text/plain": [
       "<Figure size 432x288 with 1 Axes>"
      ]
     },
     "metadata": {
      "needs_background": "light"
     },
     "output_type": "display_data"
    }
   ],
   "source": [
    "# 학습이 끝났으니 예측을 해 보아요!\n",
    "print(model.predict(np.array([[62]])))  # [[35.74613]]\n",
    "\n",
    "# 그래프로 확인해 보아요\n",
    "# W와 b가 필요해요!\n",
    "weights, bias = output_layer.get_weights()\n",
    "\n",
    "# 데이터를 2차원 평면에 찍어보아요!\n",
    "plt.scatter(x_data, t_data)\n",
    "# 우리 모델을 그려보아요!\n",
    "plt.plot(x_data, x_data*weights + bias, color='r')\n",
    "plt.show()"
   ]
  },
  {
   "cell_type": "code",
   "execution_count": 6,
   "metadata": {},
   "outputs": [
    {
     "name": "stdout",
     "output_type": "stream",
     "text": [
      "[[3.58411393]]\n"
     ]
    },
    {
     "data": {
      "image/png": "[encoded data removed]",
      "text/plain": [
       "<Figure size 432x288 with 1 Axes>"
      ]
     },
     "metadata": {
      "needs_background": "light"
     },
     "output_type": "display_data"
    }
   ],
   "source": [
    "# 정답(?)을 확인하기 위해 sklearn 구현을 해 보아요!\n",
    "\n",
    "# Raw Data Loading\n",
    "df = pd.read_csv(r\"C:\\Users\\lee_0\\Desktop\\코딩\\ML\\11.29\\ozone.csv\")\n",
    "\n",
    "training_data = df[['Temp', 'Ozone']]\n",
    "\n",
    "# 1. 결측치 처리\n",
    "training_data = training_data.dropna(how='any')\n",
    "\n",
    "# Training Data Set 준비\n",
    "x_data = training_data['Temp'].values.reshape(-1, 1)\n",
    "t_data = training_data['Ozone'].values.reshape(-1, 1)\n",
    "\n",
    "# Model 생성\n",
    "sklearn_model = linear_model.LinearRegression()\n",
    "\n",
    "# Model 학습\n",
    "sklearn_model.fit(x_data, t_data)\n",
    "\n",
    "# W와 b를 알아야지 나중에 그래프를 그릴 수 있겠죠.\n",
    "weights = sklearn_model.coef_\n",
    "bias = sklearn_model.intercept_\n",
    "\n",
    "# 예측을 해 보아요!\n",
    "print(sklearn_model.predict(np.array([[62]])))  # [[3.58411393]]\n",
    "\n",
    "# 데이터를 2차원 평면에 찍어보아요!\n",
    "plt.scatter(x_data, t_data)\n",
    "# 우리 모델을 그려보아요!\n",
    "plt.plot(x_data, x_data*weights + bias, color='r')\n",
    "plt.show()"
   ]
  },
  {
   "cell_type": "code",
   "execution_count": 2,
   "metadata": {},
   "outputs": [
    {
     "name": "stdout",
     "output_type": "stream",
     "text": [
      "8.0\n",
      "4.5\n",
      "11.5\n",
      "7.0\n",
      "22.0\n",
      "-6.0\n",
      "[22.1]\n",
      "[]\n",
      "[22.1]\n",
      "[ 1.  2.  3.  4.  5.  6.  7.  8.  9. 10. 11. 12. 13. 14.]\n"
     ]
    },
    {
     "data": {
      "image/png": "[encoded data removed]",
      "text/plain": [
       "<Figure size 432x288 with 2 Axes>"
      ]
     },
     "metadata": {
      "needs_background": "light"
     },
     "output_type": "display_data"
    }
   ],
   "source": [
    "# Tukey's Fence 방식으로 이상치를 검출해보아요!\n",
    "\n",
    "data = np.array([1,2,3,4,5,6,7,8,9,10,11,12,13,14,22.1])\n",
    "\n",
    "fig = plt.figure()\n",
    "\n",
    "fig_1 = fig.add_subplot(1, 2, 1)  # 1행 2열의 첫번째\n",
    "fig_2 = fig.add_subplot(1, 2, 2)  # 1행 2열의 두번째\n",
    "\n",
    "print(np.median(data))  # 8.0\n",
    "print(np.percentile(data, 25))  # 4.5\n",
    "print(np.percentile(data, 75))  # 11.5\n",
    "\n",
    "# IQR value\n",
    "iqr_value = np.percentile(data, 75) - np.percentile(data, 25)\n",
    "print(iqr_value)  # 7.0\n",
    "\n",
    "upper_fence = np.percentile(data, 75) + 1.5 * iqr_value\n",
    "print(upper_fence)  # 22.0\n",
    "lower_fence = np.percentile(data, 25) - 1.5 * iqr_value\n",
    "print(lower_fence)  # -6.0\n",
    "\n",
    "# 이렇게 tukey fence방식을 이용하면 이상치를 구분하는\n",
    "# 기준선을 알아낼 수 있네요!\n",
    "\n",
    "# 내가 가지고 있는 데이터에 대해 이상치를 출력해보세요!\n",
    "# boolean indexing을 이용해요!\n",
    "print(data[data > upper_fence])  # [22.1]\n",
    "print(data[data < lower_fence])  # []\n",
    "print(data[(data > upper_fence) | (data < lower_fence)])  # [22.1]\n",
    "\n",
    "# 데이터를 정제하는게 목적이예요. 이상치를 제거하는게 목적!\n",
    "result_data = data[(data <= upper_fence) & (data >= lower_fence)]\n",
    "print(result_data)\n",
    "\n",
    "fig_1.set_title('Original Data')\n",
    "fig_1.boxplot(data)\n",
    "\n",
    "fig_2.set_title('Remove Outlier Data')\n",
    "fig_2.boxplot(result_data)\n",
    "\n",
    "plt.tight_layout()\n",
    "plt.show()"
   ]
  },
  {
   "cell_type": "code",
   "execution_count": 3,
   "metadata": {},
   "outputs": [
    {
     "name": "stdout",
     "output_type": "stream",
     "text": [
      "[False False False False False False False False False False False False\n",
      " False False  True]\n",
      "[ 1.  2.  3.  4.  5.  6.  7.  8.  9. 10. 11. 12. 13. 14.]\n"
     ]
    }
   ],
   "source": [
    "# 정규분포(Z-score)를 이용한 이상치 구별방식\n",
    "# 이 방식을 이용하려면\n",
    "# 기본적으로 우리 데이터를 정규분포화 시켜서 우리 데이터에 대한\n",
    "# z_score값을 각각 구해야 되요!\n",
    "# 그리고 기준치를 설정한 다음 그 기준치를 넘는 데이터를 이상치로 판별\n",
    "\n",
    "data = np.array([1,2,3,4,5,6,7,8,9,10,11,12,13,14,22.1])\n",
    "\n",
    "zscore_threshold = 2.0  # 일반적으로 2.0을 많이 사용\n",
    "\n",
    "print(np.abs(stats.zscore(data)) > zscore_threshold)\n",
    "outlier = data[np.abs(stats.zscore(data)) > zscore_threshold]\n",
    "\n",
    "# 이상치를 제거한 결과\n",
    "print(data[np.isin(data, outlier, invert=True)])"
   ]
  },
  {
   "cell_type": "code",
   "execution_count": 4,
   "metadata": {},
   "outputs": [],
   "source": [
    "# python 구현과 tensorflow 구현, sklearn 구현\n",
    "# 이상치를 제거한 데이터를 이용해서 학습시키고 결과 그래프를 출력해 보아요!\n",
    "# 62도에서의 예측치를 각각 구해보아요!"
   ]
  },
  {
   "cell_type": "code",
   "execution_count": 5,
   "metadata": {},
   "outputs": [
    {
     "name": "stdout",
     "output_type": "stream",
     "text": [
      "29     115.0\n",
      "61     135.0\n",
      "85     108.0\n",
      "98     122.0\n",
      "100    110.0\n",
      "116    168.0\n",
      "120    118.0\n",
      "Name: Ozone, dtype: float64\n"
     ]
    }
   ],
   "source": [
    "# 데이터는 공통으로 사용하니 먼저 사용하는 데이터 정제부터 하고\n",
    "# 각각 구현하는게 좋을 듯 싶어요!\n",
    "\n",
    "# Raw Data Loading\n",
    "df = pd.read_csv(r\"C:\\Users\\lee_0\\Desktop\\코딩\\ML\\11.29\\ozone.csv\")\n",
    "\n",
    "training_data = df[['Temp', 'Ozone']]\n",
    "\n",
    "# 1. 결측치 처리\n",
    "training_data = training_data.dropna(how='any')\n",
    "\n",
    "# 2. 이상치 처리\n",
    "zscore_threshold = 1.8\n",
    "\n",
    "outlier = training_data['Ozone'][np.abs(stats.zscore(training_data['Ozone'].values)) > zscore_threshold]\n",
    "\n",
    "print(outlier)\n",
    "\n",
    "# 이상치를 제거한 결과를 얻어야 해요!\n",
    "# 내가 가진 DataFrame에서 이상치를 제거하면 되요!\n",
    "training_data = training_data.loc[np.isin(training_data['Ozone'], outlier, invert=True)]\n",
    "\n",
    "# Training Data Set 준비\n",
    "x_data = training_data['Temp'].values.reshape(-1, 1)\n",
    "t_data = training_data['Ozone'].values.reshape(-1, 1)"
   ]
  },
  {
   "cell_type": "code",
   "execution_count": 6,
   "metadata": {},
   "outputs": [
    {
     "name": "stdout",
     "output_type": "stream",
     "text": [
      "W : [[0.58218019]], b : [0.34722297], loss : 1492.578648712216\n",
      "W : [[0.63035171]], b : [-10.2664341], loss : 455.58820103140545\n",
      "W : [[0.75418313]], b : [-19.98687611], loss : 424.0670505630589\n",
      "W : [[0.8676051]], b : [-28.89020348], loss : 397.62258972069185\n",
      "W : [[0.97149265]], b : [-37.04510405], loss : 375.4371840878545\n",
      "W : [[1.06664726]], b : [-44.5144917], loss : 356.8248846705393\n",
      "W : [[1.15380304]], b : [-51.35599163], loss : 341.21021909567173\n",
      "W : [[1.23363237]], b : [-57.62238503], loss : 328.11039861951275\n",
      "W : [[1.30675113]], b : [-63.36201618], loss : 317.1203908166171\n",
      "W : [[1.37372342]], b : [-68.6191655], loss : 307.9003964107671\n",
      "[[15.53972854]]\n"
     ]
    }
   ],
   "source": [
    "# Python 직접구현\n",
    "\n",
    "## 수치미분 코드\n",
    "def numerical_derivative(f, x):\n",
    "\n",
    "    delta_x = 1e-4\n",
    "    derivative_x = np.zeros_like(x)\n",
    "\n",
    "    it = np.nditer(x, flags=['multi_index'])\n",
    "\n",
    "    while not it.finished:\n",
    "\n",
    "        idx = it.multi_index\n",
    "\n",
    "        tmp = x[idx]\n",
    "\n",
    "        x[idx] = tmp + delta_x\n",
    "        fx_plus_delta_x = f(x)\n",
    "\n",
    "        x[idx] = tmp - delta_x\n",
    "        fx_minus_delta_x = f(x)\n",
    "\n",
    "        derivative_x[idx] = (fx_plus_delta_x - fx_minus_delta_x) / (2 * delta_x)\n",
    "\n",
    "        x[idx] = tmp\n",
    "\n",
    "        it.iternext()\n",
    "\n",
    "    return derivative_x\n",
    "\n",
    "# Model을 만들어야 하는데... y = Wx + b\n",
    "W = np.random.rand(1, 1)\n",
    "b = np.random.rand(1)\n",
    "\n",
    "# loss function(MSE)\n",
    "def loss_func(input_data):\n",
    "\n",
    "    input_w = input_data[0]\n",
    "    input_b = input_data[1]\n",
    "\n",
    "    y = np.dot(x_data, input_w) + input_b\n",
    "\n",
    "    return np.mean(np.power((t_data - y), 2))\n",
    "\n",
    "# 모델이 완성된 후 예측하는 함수를 하나 만들어요!\n",
    "def predict(x):\n",
    "\n",
    "    return np.dot(x, W) + b\n",
    "\n",
    "# learning rate 정의(hyperparameter)\n",
    "learning_rate = 1e-4\n",
    "\n",
    "# 학습진행\n",
    "for step in range(300000):\n",
    "\n",
    "    input_param = np.concatenate((W.ravel(), b.ravel()), axis=0)\n",
    "    derivative_result = learning_rate * numerical_derivative(loss_func, input_param)\n",
    "\n",
    "    W = W - derivative_result[0].reshape(-1, 1)\n",
    "    b = b - derivative_result[1]\n",
    "\n",
    "    if step % 30000 == 0:\n",
    "        print(f'W : {W}, b : {b}, loss : {loss_func(input_param)}')\n",
    "    \n",
    "# 학습종료 후 예측\n",
    "# 온도가 62도일때 Ozone량은 얼마?\n",
    "print(predict(np.array([[62]])))  # [[15.56009003]]"
   ]
  },
  {
   "cell_type": "code",
   "execution_count": 7,
   "metadata": {},
   "outputs": [
    {
     "name": "stdout",
     "output_type": "stream",
     "text": [
      "[[33.18582]]\n"
     ]
    }
   ],
   "source": [
    "# Tensorflow Keras를 이용해서 구현\n",
    "\n",
    "# Model 생성\n",
    "model = Sequential()\n",
    "\n",
    "model.add(Flatten(input_shape=(1,)))\n",
    "\n",
    "output_layer = Dense(units=1,\n",
    "                     activation='linear')\n",
    "\n",
    "model.add(output_layer)\n",
    "\n",
    "# Model 설정\n",
    "model.compile(optimizer=SGD(learning_rate=1e-4),\n",
    "              loss='mse')\n",
    "\n",
    "# Model 학습\n",
    "model.fit(x_data,\n",
    "          t_data,\n",
    "          epochs=2000,\n",
    "          verbose=0)\n",
    "\n",
    "# 학습이 끝났으니 예측을 해 보아요!\n",
    "print(model.predict(np.array([[62]])))  # [[26.496178]]\n",
    "\n",
    "# 그래프로 확인해 보아요\n",
    "# W와 b가 필요해요!\n",
    "weights, bias = output_layer.get_weights()"
   ]
  },
  {
   "cell_type": "code",
   "execution_count": 8,
   "metadata": {},
   "outputs": [
    {
     "name": "stdout",
     "output_type": "stream",
     "text": [
      "[[4.51299041]]\n"
     ]
    }
   ],
   "source": [
    "# 정답(?)을 확인하기 위해 sklearn 구현을 해 보아요!\n",
    "\n",
    "# Model 생성\n",
    "sklearn_model = linear_model.LinearRegression()\n",
    "\n",
    "# Model 학습\n",
    "sklearn_model.fit(x_data, t_data)\n",
    "\n",
    "# 예측을 해 보아요!\n",
    "print(sklearn_model.predict(np.array([[62]])))  # [[4.51299041]]"
   ]
  },
  {
   "cell_type": "code",
   "execution_count": 9,
   "metadata": {},
   "outputs": [
    {
     "data": {
      "image/png": "[encoded data removed]",
      "text/plain": [
       "<Figure size 432x288 with 3 Axes>"
      ]
     },
     "metadata": {
      "needs_background": "light"
     },
     "output_type": "display_data"
    }
   ],
   "source": [
    "##### 결과를 그래프로 확인해 보아요! #####\n",
    "\n",
    "fig = plt.figure()\n",
    "\n",
    "fig_python = fig.add_subplot(1, 3, 1)\n",
    "fig_tensorflow = fig.add_subplot(1, 3, 2)\n",
    "fig_sklearn = fig.add_subplot(1, 3, 3)\n",
    "\n",
    "fig_python.set_title('python')\n",
    "fig_tensorflow.set_title('tensorflow')\n",
    "fig_sklearn.set_title('sklearn')\n",
    "\n",
    "fig_python.scatter(x_data, t_data)\n",
    "fig_python.plot(x_data, x_data*W.ravel() + b, color='r')\n",
    "\n",
    "fig_tensorflow.scatter(x_data, t_data)\n",
    "fig_tensorflow.plot(x_data, x_data*weights + bias, color='b')\n",
    "\n",
    "fig_sklearn.scatter(x_data, t_data)\n",
    "fig_sklearn.plot(x_data,\n",
    "                 x_data*sklearn_model.coef_ + sklearn_model.intercept_,\n",
    "                 color='g')\n",
    "\n",
    "plt.tight_layout()\n",
    "plt.show()"
   ]
  }
 ],
 "metadata": {
  "kernelspec": {
   "display_name": "ml_venv",
   "language": "python",
   "name": "python3"
  },
  "language_info": {
   "codemirror_mode": {
    "name": "ipython",
    "version": 3
   },
   "file_extension": ".py",
   "mimetype": "text/x-python",
   "name": "python",
   "nbconvert_exporter": "python",
   "pygments_lexer": "ipython3",
   "version": "3.6.13"
  }
 },
 "nbformat": 4,
 "nbformat_minor": 2
}
