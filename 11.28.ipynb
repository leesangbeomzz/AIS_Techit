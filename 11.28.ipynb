{
 "cells": [
  {
   "cell_type": "code",
   "execution_count": 1,
   "metadata": {},
   "outputs": [
    {
     "name": "stdout",
     "output_type": "stream",
     "text": [
      "9.999999999976694\n"
     ]
    }
   ],
   "source": [
    "# 일변수 함수의 수치미분 코드 구현\n",
    "# 입력으로 함수를 받아서 미분을 수행하는 함수를 하나 구현해 보아요!\n",
    "# 우리 파이썬은 1급함수를 지원해요.\n",
    "# 함수의 인자로 다른 함수를 받을 수 있어요!\n",
    "\n",
    "def numerical_derivative(f, x):\n",
    "\n",
    "    # 입력인자 f는 미분하려는 함수\n",
    "    # 입력인자 x는 미분값을 알고자하는 입력값\n",
    "\n",
    "    delta_x = 1e-4\n",
    "\n",
    "    # 중앙차분을 이용한 미분을 코드로 표현해보아요!\n",
    "    result = (f(x + delta_x) - f(x - delta_x)) / (2 * delta_x)\n",
    "    return result\n",
    "\n",
    "# 이 미분함수가 정상적으로 값을 계산하는지 확인해 보아요!\n",
    "\n",
    "def my_func(x):\n",
    "\n",
    "    return x ** 2\n",
    "\n",
    "# 함수 f(x) = x ** 2의 미분계소 f'(5)를 구해보아요!\n",
    "\n",
    "result = numerical_derivative(my_func, 5)\n",
    "print(result)  # 9.999999999976694"
   ]
  },
  {
   "cell_type": "code",
   "execution_count": 2,
   "metadata": {},
   "outputs": [],
   "source": [
    "# 다변수 함수의 수치미분 코드를 구현해 보아요!\n",
    "\n",
    "import numpy as np\n",
    "\n",
    "def numerical_derivative(f, x):\n",
    "\n",
    "    # f : 미분하려고 하는 다변수 함수\n",
    "    # x : 모든 변수를 포함하는 ndarray [1.0 2.0]\n",
    "    # 리턴되는 결과는 [8.0 15.0]\n",
    "\n",
    "    delta_x = 1e-4\n",
    "    derivative_x = np.zeros_like(x)  # [0.0 0.0]\n",
    "\n",
    "    it = np.nditer(x, flags=['multi_index'])\n",
    "\n",
    "    while not it.finished:\n",
    "\n",
    "        idx = it.multi_index  # 현재의 index를 추출 => tuple형태로 리턴.\n",
    "\n",
    "        tmp = x[idx]  # 현재 index의 값을 일단 잠시 보존해야해요!\n",
    "                            # 밑에서 이 값을 변경해서 중앙차분 값을 계산해야 해요!\n",
    "                            # 그런데 우리 편미분해야해요. 다음 변수 편미분할때\n",
    "                            # 원래값으로 복원해야 편미분이 정상적으로 진행되기 때문에\n",
    "                            # 이 값을 잠시 보관했다가 원상태로 복구해야 해요!\n",
    "        x[idx] = tmp + delta_x\n",
    "        fx_plus_delta_x = f(x)  # f(x + delta_x)\n",
    "\n",
    "        x[idx] = tmp - delta_x\n",
    "        fx_minus_delta_x = f(x)  # f(x - delta_x)\n",
    "\n",
    "        derivative_x[idx] = (fx_plus_delta_x - fx_minus_delta_x) / (2 * delta_x)\n",
    "\n",
    "        x[idx] = tmp\n",
    "\n",
    "        it.iternext()\n",
    "\n",
    "    return derivative_x"
   ]
  },
  {
   "cell_type": "code",
   "execution_count": 3,
   "metadata": {},
   "outputs": [
    {
     "name": "stdout",
     "output_type": "stream",
     "text": [
      "[6.]\n"
     ]
    }
   ],
   "source": [
    "def my_func(x):\n",
    "\n",
    "    return x ** 2\n",
    "\n",
    "# f'(3.0)을 구해보아요!\n",
    "\n",
    "result = numerical_derivative(my_func, np.array([3.0]))\n",
    "print(result)  # [6.]"
   ]
  },
  {
   "cell_type": "code",
   "execution_count": 4,
   "metadata": {},
   "outputs": [
    {
     "name": "stdout",
     "output_type": "stream",
     "text": [
      "[ 8.         15.00000001]\n"
     ]
    }
   ],
   "source": [
    "# 2변수 함수를 다시 만들어보아요!\n",
    "\n",
    "def my_func(input_data):\n",
    "\n",
    "    x = input_data[0]\n",
    "    y = input_data[1]\n",
    "\n",
    "    # f(x) = 2x + 3xy + y^3\n",
    "    return 2*x + 3*x*y + np.power(y, 3)\n",
    "\n",
    "result = numerical_derivative(my_func, np.array([1.0, 2.0]))\n",
    "print(result)  # [ 8.         15.00000001]"
   ]
  },
  {
   "cell_type": "code",
   "execution_count": 5,
   "metadata": {},
   "outputs": [
    {
     "name": "stdout",
     "output_type": "stream",
     "text": [
      "[[ 5. 13.]\n",
      " [32. 15.]]\n"
     ]
    }
   ],
   "source": [
    "# 4변수 함수에 대해서 수치미분을 해보세요!\n",
    "# f(w, x, y, z) = wx + xyz + 3w + zy^2\n",
    "# 다변수 함수의 수치미분 실행\n",
    "# f'(1.0, 2.0, 3.0, 4.0)의 값은 얼마일까요?\n",
    "\n",
    "# 각자 구현을 해보세요!\n",
    "\n",
    "def my_func(input_data):\n",
    "\n",
    "    w = input_data[0, 0]\n",
    "    x = input_data[0, 1]\n",
    "    y = input_data[1, 0]\n",
    "    z = input_data[1, 1]\n",
    "\n",
    "    return w*x + x*y*z + 3*w + z*np.power(y, 2)\n",
    "\n",
    "data = np.array([[1.0, 2.0],\n",
    "                 [3.0, 4.0]])\n",
    "result = numerical_derivative(my_func, data)\n",
    "print(result)  # [[ 5. 13.]\n",
    "               # [32. 15.]]"
   ]
  }
 ],
 "metadata": {
  "kernelspec": {
   "display_name": "python_venv",
   "language": "python",
   "name": "python3"
  },
  "language_info": {
   "codemirror_mode": {
    "name": "ipython",
    "version": 3
   },
   "file_extension": ".py",
   "mimetype": "text/x-python",
   "name": "python",
   "nbconvert_exporter": "python",
   "pygments_lexer": "ipython3",
   "version": "3.6.13"
  }
 },
 "nbformat": 4,
 "nbformat_minor": 2
}
