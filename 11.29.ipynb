{
 "cells": [
  {
   "cell_type": "code",
   "execution_count": 1,
   "metadata": {},
   "outputs": [
    {
     "name": "stderr",
     "output_type": "stream",
     "text": [
      "Matplotlib created a temporary config/cache directory at C:\\Users\\lee_0\\AppData\\Local\\Temp\\matplotlib-kj49vils because the default path (C:\\Users\\lee_0\\.matplotlib) is not a writable directory; it is highly recommended to set the MPLCONFIGDIR environment variable to a writable directory, in particular to speed up the import of Matplotlib and to better support multiprocessing.\n"
     ]
    }
   ],
   "source": [
    "import numpy as np\n",
    "import pandas as pd\n",
    "import matplotlib.pyplot as plt"
   ]
  },
  {
   "cell_type": "code",
   "execution_count": 2,
   "metadata": {},
   "outputs": [
    {
     "data": {
      "text/html": [
       "<div>\n",
       "<style scoped>\n",
       "    .dataframe tbody tr th:only-of-type {\n",
       "        vertical-align: middle;\n",
       "    }\n",
       "\n",
       "    .dataframe tbody tr th {\n",
       "        vertical-align: top;\n",
       "    }\n",
       "\n",
       "    .dataframe thead th {\n",
       "        text-align: right;\n",
       "    }\n",
       "</style>\n",
       "<table border=\"1\" class=\"dataframe\">\n",
       "  <thead>\n",
       "    <tr style=\"text-align: right;\">\n",
       "      <th></th>\n",
       "      <th>공부시간(x)</th>\n",
       "      <th>시험점수(t)</th>\n",
       "    </tr>\n",
       "  </thead>\n",
       "  <tbody>\n",
       "    <tr>\n",
       "      <th>0</th>\n",
       "      <td>1</td>\n",
       "      <td>5</td>\n",
       "    </tr>\n",
       "    <tr>\n",
       "      <th>1</th>\n",
       "      <td>2</td>\n",
       "      <td>7</td>\n",
       "    </tr>\n",
       "    <tr>\n",
       "      <th>2</th>\n",
       "      <td>3</td>\n",
       "      <td>20</td>\n",
       "    </tr>\n",
       "    <tr>\n",
       "      <th>3</th>\n",
       "      <td>4</td>\n",
       "      <td>31</td>\n",
       "    </tr>\n",
       "    <tr>\n",
       "      <th>4</th>\n",
       "      <td>5</td>\n",
       "      <td>40</td>\n",
       "    </tr>\n",
       "  </tbody>\n",
       "</table>\n",
       "</div>"
      ],
      "text/plain": [
       "   공부시간(x)  시험점수(t)\n",
       "0        1        5\n",
       "1        2        7\n",
       "2        3       20\n",
       "3        4       31\n",
       "4        5       40"
      ]
     },
     "metadata": {},
     "output_type": "display_data"
    },
    {
     "data": {
      "image/png": "[encoded data removed]",
      "text/plain": [
       "<Figure size 432x288 with 1 Axes>"
      ]
     },
     "metadata": {
      "needs_background": "light"
     },
     "output_type": "display_data"
    }
   ],
   "source": [
    "df = pd.DataFrame({'공부시간(x)' : [1,2,3,4,5,7,8,10,12,13,14,15,18,20,25,28,30],\n",
    "                   '시험점수(t)' : [5,7,20,31,40,44,46,49,60,62,70,80,85,91,92,97,98]})\n",
    "\n",
    "display(df.head())\n",
    "\n",
    "plt.scatter(df['공부시간(x)'], df['시험점수(t)'])\n",
    "plt.plot(df['공부시간(x)'], df['공부시간(x)']*2 + 3, color='r')\n",
    "plt.plot(df['공부시간(x)'], df['공부시간(x)']*5 - 7, color='g')\n",
    "plt.plot(df['공부시간(x)'], df['공부시간(x)']*1 + 8, color='b')\n",
    "plt.plot(df['공부시간(x)'], df['공부시간(x)']*4 - 10, color='m')\n",
    "plt.show()"
   ]
  },
  {
   "cell_type": "code",
   "execution_count": 3,
   "metadata": {},
   "outputs": [
    {
     "name": "stdout",
     "output_type": "stream",
     "text": [
      "W : [[0.47018615]], b : [0.60635211], loss : 29.651999191078083\n",
      "W : [[1.99719322]], b : [1.01013338], loss : 1.8691813109057066e-05\n",
      "W : [[1.99898211]], b : [1.00367491], loss : 2.458309874641799e-06\n",
      "W : [[1.99963086]], b : [1.00133272], loss : 3.2331199785235236e-07\n",
      "W : [[1.99986613]], b : [1.00048332], loss : 4.252134730270335e-08\n",
      "W : [[1.99995145]], b : [1.00017528], loss : 5.5923225509863185e-09\n",
      "W : [[1.99998239]], b : [1.00006356], loss : 7.354910766152505e-10\n",
      "W : [[1.99999361]], b : [1.00002305], loss : 9.673031537672738e-11\n",
      "W : [[1.99999768]], b : [1.00000836], loss : 1.2721777598850625e-11\n",
      "W : [[1.99999916]], b : [1.00000303], loss : 1.673142752113724e-12\n"
     ]
    }
   ],
   "source": [
    "# Training Data Set\n",
    "x_data = np.array([1, 2, 3, 4, 5]).reshape(5, 1)\n",
    "t_data = np.array([3, 5, 7, 9, 11]).reshape(5, 1)\n",
    "\n",
    "# model => y = Wx + b\n",
    "# rand() => 0과 1사이의 난수를 균등분포에서 발생시켜요!\n",
    "W = np.random.rand(1, 1)\n",
    "b = np.random.rand(1)\n",
    "\n",
    "# loss function\n",
    "def loss_func(input_data):\n",
    "\n",
    "    input_W = input_data[0]\n",
    "    input_b = input_data[1]\n",
    "\n",
    "    # y = xW + b\n",
    "    y = np.dot(x_data, input_W) + input_b\n",
    "\n",
    "    return np.mean(np.power((t_data - y), 2))\n",
    "\n",
    "# 미분해주는 함수가 있어야 해요!\n",
    "def numerical_derivative(f, x):\n",
    "\n",
    "    delta_x = 1e-4\n",
    "    derivative_x = np.zeros_like(x)\n",
    "\n",
    "    it = np.nditer(x, flags=['multi_index'])\n",
    "\n",
    "    while not it.finished:\n",
    "\n",
    "        idx = it.multi_index\n",
    "\n",
    "        tmp = x[idx]\n",
    "\n",
    "        x[idx] = tmp + delta_x\n",
    "        fx_plus_delta_x = f(x)\n",
    "\n",
    "        x[idx] = tmp - delta_x\n",
    "        fx_minus_delta_x = f(x)\n",
    "\n",
    "        derivative_x[idx] = (fx_plus_delta_x - fx_minus_delta_x) / (2 * delta_x)\n",
    "\n",
    "        x[idx] = tmp\n",
    "\n",
    "        it.iternext()\n",
    "\n",
    "    return derivative_x\n",
    "\n",
    "# 학습이 다 종료되면(모델이 다 만들어지면)\n",
    "# 예측작업을 해야 해요! 그래서 예측을 해주는 함수를 하나 정의\n",
    "def predict(x):\n",
    "\n",
    "    return np.dot(x, W) + b\n",
    "\n",
    "# learning rate 정의\n",
    "learning_rate = 1e-4\n",
    "\n",
    "# 학습을 진행\n",
    "for step in range(300000):\n",
    "\n",
    "    # 현재 W는 2차원, b는 1차원이예요!\n",
    "    # 그런데 이게 loss함수안으로 들어갈때는 1차원 안에 두 값이\n",
    "    # 순서대로 들어가 있어야 해요!\n",
    "    input_param = np.concatenate((W.ravel(), b.ravel()), axis=0)\n",
    "    derivative_result = learning_rate * numerical_derivative(loss_func, input_param)\n",
    "\n",
    "    W = W - derivative_result[0].reshape(-1, 1)\n",
    "    b = b - derivative_result[1]\n",
    "\n",
    "    # 확인작업\n",
    "    if step % 30000 == 0:\n",
    "        print(f'W : {W}, b : {b}, loss : {loss_func(input_param)}')"
   ]
  },
  {
   "cell_type": "code",
   "execution_count": 4,
   "metadata": {},
   "outputs": [
    {
     "name": "stdout",
     "output_type": "stream",
     "text": [
      "[[14.99999897]]\n"
     ]
    }
   ],
   "source": [
    "predict_result = predict(np.array([7]).reshape(1, 1))\n",
    "print(predict_result)"
   ]
  },
  {
   "cell_type": "code",
   "execution_count": 5,
   "metadata": {},
   "outputs": [
    {
     "data": {
      "text/plain": [
       "<keras.callbacks.History at 0x20059eee7b8>"
      ]
     },
     "execution_count": 5,
     "metadata": {},
     "output_type": "execute_result"
    }
   ],
   "source": [
    "# Tensorflow Keras 구현\n",
    "\n",
    "from tensorflow.keras.models import Sequential\n",
    "from tensorflow.keras.layers import Flatten, Dense\n",
    "from tensorflow.keras.optimizers import SGD\n",
    "\n",
    "# Training Data Set\n",
    "x_data = np.array([1, 2, 3, 4, 5]).reshape(5, 1)\n",
    "t_data = np.array([3, 5, 7, 9, 11]).reshape(5, 1)\n",
    "\n",
    "# Model 생성\n",
    "model = Sequential()\n",
    "\n",
    "# Model안에 layer를 생성\n",
    "model.add(Flatten(input_shape=(1,)))\n",
    "model.add(Dense(units=1,\n",
    "                activation='linear'))\n",
    "\n",
    "# 모델이 완성되었으면 compile 옵션들을 설정해야 해요!\n",
    "model.compile(optimizer=SGD(learning_rate=1e-2),\n",
    "              loss='mse')\n",
    "\n",
    "# 모델의 학습\n",
    "model.fit(x_data,\n",
    "          t_data,\n",
    "          epochs=5000,\n",
    "          verbose=0)"
   ]
  },
  {
   "cell_type": "code",
   "execution_count": 6,
   "metadata": {},
   "outputs": [
    {
     "name": "stdout",
     "output_type": "stream",
     "text": [
      "[[21.000032]]\n"
     ]
    }
   ],
   "source": [
    "# 예측을 해 보아요!\n",
    "print(model.predict(np.array([[10]])))  # [[21.000032]]"
   ]
  },
  {
   "cell_type": "code",
   "execution_count": 7,
   "metadata": {},
   "outputs": [
    {
     "name": "stdout",
     "output_type": "stream",
     "text": [
      "[[21.]]\n"
     ]
    }
   ],
   "source": [
    "# sklearn 구현\n",
    "# sklearn은 일반사람들도 쉽고 편하게 머신러닝을 할 수 있도록\n",
    "# 모델을 제공해줘요!\n",
    "\n",
    "from sklearn import linear_model\n",
    "\n",
    "# Training Data Set\n",
    "x_data = np.array([1, 2, 3, 4, 5]).reshape(5, 1)\n",
    "t_data = np.array([3, 5, 7, 9, 11]).reshape(5, 1)\n",
    "\n",
    "sklearn_model = linear_model.LinearRegression()\n",
    "\n",
    "sklearn_model.fit(x_data,\n",
    "                  t_data)\n",
    "print(sklearn_model.predict(np.array([[10]])))  # [[21.]]"
   ]
  },
  {
   "cell_type": "code",
   "execution_count": 8,
   "metadata": {},
   "outputs": [
    {
     "data": {
      "text/html": [
       "<div>\n",
       "<style scoped>\n",
       "    .dataframe tbody tr th:only-of-type {\n",
       "        vertical-align: middle;\n",
       "    }\n",
       "\n",
       "    .dataframe tbody tr th {\n",
       "        vertical-align: top;\n",
       "    }\n",
       "\n",
       "    .dataframe thead th {\n",
       "        text-align: right;\n",
       "    }\n",
       "</style>\n",
       "<table border=\"1\" class=\"dataframe\">\n",
       "  <thead>\n",
       "    <tr style=\"text-align: right;\">\n",
       "      <th></th>\n",
       "      <th>Temp</th>\n",
       "      <th>Ozone</th>\n",
       "    </tr>\n",
       "  </thead>\n",
       "  <tbody>\n",
       "    <tr>\n",
       "      <th>0</th>\n",
       "      <td>67</td>\n",
       "      <td>41.0</td>\n",
       "    </tr>\n",
       "    <tr>\n",
       "      <th>1</th>\n",
       "      <td>72</td>\n",
       "      <td>36.0</td>\n",
       "    </tr>\n",
       "    <tr>\n",
       "      <th>2</th>\n",
       "      <td>74</td>\n",
       "      <td>12.0</td>\n",
       "    </tr>\n",
       "    <tr>\n",
       "      <th>3</th>\n",
       "      <td>62</td>\n",
       "      <td>18.0</td>\n",
       "    </tr>\n",
       "    <tr>\n",
       "      <th>5</th>\n",
       "      <td>66</td>\n",
       "      <td>28.0</td>\n",
       "    </tr>\n",
       "    <tr>\n",
       "      <th>...</th>\n",
       "      <td>...</td>\n",
       "      <td>...</td>\n",
       "    </tr>\n",
       "    <tr>\n",
       "      <th>147</th>\n",
       "      <td>63</td>\n",
       "      <td>14.0</td>\n",
       "    </tr>\n",
       "    <tr>\n",
       "      <th>148</th>\n",
       "      <td>70</td>\n",
       "      <td>30.0</td>\n",
       "    </tr>\n",
       "    <tr>\n",
       "      <th>150</th>\n",
       "      <td>75</td>\n",
       "      <td>14.0</td>\n",
       "    </tr>\n",
       "    <tr>\n",
       "      <th>151</th>\n",
       "      <td>76</td>\n",
       "      <td>18.0</td>\n",
       "    </tr>\n",
       "    <tr>\n",
       "      <th>152</th>\n",
       "      <td>68</td>\n",
       "      <td>20.0</td>\n",
       "    </tr>\n",
       "  </tbody>\n",
       "</table>\n",
       "<p>116 rows × 2 columns</p>\n",
       "</div>"
      ],
      "text/plain": [
       "     Temp  Ozone\n",
       "0      67   41.0\n",
       "1      72   36.0\n",
       "2      74   12.0\n",
       "3      62   18.0\n",
       "5      66   28.0\n",
       "..    ...    ...\n",
       "147    63   14.0\n",
       "148    70   30.0\n",
       "150    75   14.0\n",
       "151    76   18.0\n",
       "152    68   20.0\n",
       "\n",
       "[116 rows x 2 columns]"
      ]
     },
     "metadata": {},
     "output_type": "display_data"
    }
   ],
   "source": [
    "# ozone.csv 파일을 이용해서 머신러닝 모델을 만들어 보아요!\n",
    "# python 구현\n",
    "\n",
    "def numerical_derivative(f, x):\n",
    "\n",
    "    delta_x = 1e-4\n",
    "    derivative_x = np.zeros_like(x)\n",
    "\n",
    "    it = np.nditer(x, flags=['multi_index'])\n",
    "\n",
    "    while not it.finished:\n",
    "\n",
    "        idx = it.multi_index\n",
    "\n",
    "        tmp = x[idx]\n",
    "\n",
    "        x[idx] = tmp + delta_x\n",
    "        fx_plus_delta_x = f(x)\n",
    "\n",
    "        x[idx] = tmp - delta_x\n",
    "        fx_minus_delta_x = f(x)\n",
    "\n",
    "        derivative_x[idx] = (fx_plus_delta_x - fx_minus_delta_x) / (2 * delta_x)\n",
    "\n",
    "        x[idx] = tmp\n",
    "\n",
    "        it.iternext()\n",
    "\n",
    "    return derivative_x\n",
    "\n",
    "# Raw Data Loading\n",
    "df = pd.read_csv(r\"C:\\Users\\lee_0\\Desktop\\코딩\\ML\\11.29\\ozone.csv\")\n",
    "# display(df)  # 153 rows × 6 columns\n",
    "\n",
    "# 아직은 simple linear regression얘기를 하는 중이기 때문에\n",
    "# 독립변수를 1개만 사용할꺼예요 => Temp만 사용할거예요!\n",
    "# 종속변수는 Ozone을 이용할거예요\n",
    "\n",
    "# 그러면 먼저 사용할 데이터를 추출해보아요!\n",
    "training_data = df[['Temp', 'Ozone']]\n",
    "# display(training_data)  # 153 rows × 2 columns\n",
    "\n",
    "# 데이터 처리를 좀 해야해요!\n",
    "# 일단은 결측치부터 처리해야 해요!\n",
    "# 이런 결측치를 처리하는 두가지 방식이 있어요!\n",
    "# 1. 결측치를 삭제\n",
    "#    데이터량이 충분히 많을때 삭제\n",
    "#    일반적으로 10만개를 기준으로 데이터량의 많고 적음을 삼아요!\n",
    "\n",
    "# 2. Imputation을 진행(결측치를 다른 값으로 대체)\n",
    "#    데이터량이 충분하지 않은 경우\n",
    "#    그럼 어떤값으로 대체해야 하나요? => 기본 통계값(최대, 최소, 평균, 최빈, 중위)으로 대체\n",
    "#    머신러닝을 이용해서 값을 대체\n",
    "\n",
    "# 삭제해서 사용해 보아요\n",
    "training_data = training_data.dropna(how='any')\n",
    "display(training_data)  # 116 rows × 2 columns"
   ]
  }
 ],
 "metadata": {
  "kernelspec": {
   "display_name": "python_venv",
   "language": "python",
   "name": "python3"
  },
  "language_info": {
   "codemirror_mode": {
    "name": "ipython",
    "version": 3
   },
   "file_extension": ".py",
   "mimetype": "text/x-python",
   "name": "python",
   "nbconvert_exporter": "python",
   "pygments_lexer": "ipython3",
   "version": "3.6.13"
  }
 },
 "nbformat": 4,
 "nbformat_minor": 2
}
